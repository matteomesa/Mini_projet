{
 "cells": [
  {
   "cell_type": "markdown",
   "id": "f04bd136",
   "metadata": {},
   "source": [
    "<div style=\"text-align: justify\">\n",
    "This last part shows a simulation with three different views: the first one is an external camera shot, the second one is the real time feedback seen by the camera with the implementation of the vision and the optimal path and the last one is a plot used to observe the approximation of the robot position and its angle using the Kalmann filter\n",
    "<div>\n",
    "\n",
    "\n",
    "|                                    |                    |\n",
    "| ---------------------------------- | ------------------ |\n",
    "| Description                        |                    |\n",
    "| Simulation                         | ![](camera.gif)    |\n",
    "| Image Processing from Webcam       | ![](feedback.gif)  |\n",
    "| Kalman filter display              | ![](pygame.gif)    |\n",
    "\n"
   ]
  },
  {
   "cell_type": "markdown",
   "id": "25d9197e",
   "metadata": {},
   "source": []
  },
  {
   "cell_type": "markdown",
   "id": "e2d4e8cf",
   "metadata": {},
   "source": []
  }
 ],
 "metadata": {
  "kernelspec": {
   "display_name": "Python 3 (ipykernel)",
   "language": "python",
   "name": "python3"
  },
  "language_info": {
   "codemirror_mode": {
    "name": "ipython",
    "version": 3
   },
   "file_extension": ".py",
   "mimetype": "text/x-python",
   "name": "python",
   "nbconvert_exporter": "python",
   "pygments_lexer": "ipython3",
   "version": "3.9.13"
  }
 },
 "nbformat": 4,
 "nbformat_minor": 5
}
